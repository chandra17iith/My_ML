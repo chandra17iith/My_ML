{
 "cells": [
  {
   "cell_type": "markdown",
   "id": "db857ad7",
   "metadata": {
    "papermill": {
     "duration": 0.010522,
     "end_time": "2024-12-22T07:10:05.949670",
     "exception": false,
     "start_time": "2024-12-22T07:10:05.939148",
     "status": "completed"
    },
    "tags": []
   },
   "source": [
    "# Fraud Detection - Online Payments\n",
    "\n",
    "This project is a machine learning classification model to detect fraudulent transactions in online payments. The dataset used is highly imbalanced, with far more non-fraudulent transactions than fraudulent ones. The project explores multiple algorithms and techniques to address the imbalance and improve the detection of fraud.\n",
    "\n",
    "## Dataset\n",
    "\n",
    "The dataset contains information about online payment transactions, including:\n",
    "- Transaction Type (e.g., cash-out, transfer)\n",
    "- Amount\n",
    "- Origin and Destination Balances (before and after the transaction)\n",
    "- Flags for potential fraud.\n",
    "\n",
    "The dataset is available on [Kaggle](https://www.kaggle.com/datasets).\n",
    "\n",
    "### Key Features:\n",
    "- **isFraud**: The target variable, indicating whether a transaction is fraudulent (`1`) or not (`0`).\n",
    "- **type**: Type of transaction (cash-in, cash-out, debit, payment, transfer).\n",
    "- **Numerical Features**: Amount, old balance, and new balance of both origin and destination accounts.\n",
    "- **Flag**: A binary flag for whether the transaction is considered suspicious.\n",
    "\n",
    "## Exploratory Data Analysis (EDA)\n",
    "\n",
    "- Analysis showed that fraud occurs only in **cash-out** or **transfer** transactions.\n",
    "- A correlation matrix was generated to examine relationships between numerical features.\n",
    "- Fraud cases make up a small fraction of the dataset, indicating a significant class imbalance.\n",
    "\n",
    "## Data Preprocessing\n",
    "\n",
    "### Steps:\n",
    "1. **Handling Missing Values**: The dataset contains no missing values or duplicates.\n",
    "2. **Feature Scaling**: Numerical features are scaled using `StandardScaler`.\n",
    "3. **Encoding Categorical Data**: Transaction types are one-hot encoded.\n",
    "4. **Data Splitting**: The dataset is split into training (75%) and testing (25%) sets.\n",
    "\n",
    "## Imbalanced Data Handling\n",
    "\n",
    "Given the imbalance in fraud and non-fraud transactions, the following steps were taken:\n",
    "- **Random Undersampling**: To balance the data, we undersampled the majority class (non-fraudulent transactions).\n",
    "  \n",
    "## Model Training and Evaluation\n",
    "\n",
    "We experimented with several machine learning algorithms, including:\n",
    "\n",
    "1. **Logistic Regression**\n",
    "2. **Decision Trees**\n",
    "3. **Random Forest**\n",
    "4. **Gradient Boosting**\n",
    "5. **XGBoost**\n",
    "6. **Support Vector Machine (SVM)**\n",
    "7. **K-Nearest Neighbors (KNN)**\n",
    "8. **Naive Bayes**\n",
    "\n",
    "Each model was trained using the preprocessed data, and the results were evaluated using:\n",
    "- **Accuracy Score**\n",
    "- **Confusion Matrix**\n",
    "- **Classification Report (Precision, Recall, F1-Score)**\n",
    "\n",
    "### Best Performing Model\n",
    "\n",
    "- **Gradient Boosting** produced the best result with an accuracy score of `0.996`. It was able to balance precision and recall effectively.\n",
    "\n",
    "## Results and Inferences\n",
    "\n",
    "- The major challenge was the significant class imbalance, which made it easy to predict \"no fraud\" and achieve high accuracy.\n",
    "- Undersampling helped address the imbalance and improved fraud detection.\n",
    "- **Gradient Boosting** emerged as the best model for this problem, though further improvements could be made by experimenting with different sampling techniques or more advanced models.\n",
    "\n",
    "## Requirements\n",
    "\n",
    "- Python 3.x\n",
    "- Libraries:\n",
    "  - `numpy`\n",
    "  - `pandas`\n",
    "  - `matplotlib`\n",
    "  - `seaborn`\n",
    "  - `scikit-learn`\n",
    "  - `xgboost`\n",
    "  - `imbalanced-learn`\n"
   ]
  },
  {
   "cell_type": "code",
   "execution_count": 1,
   "id": "6fa2f090",
   "metadata": {
    "_cell_guid": "b1076dfc-b9ad-4769-8c92-a6c4dae69d19",
    "_uuid": "8f2839f25d086af736a60e9eeb907d3b93b6e0e5",
    "execution": {
     "iopub.execute_input": "2024-12-22T07:10:05.971580Z",
     "iopub.status.busy": "2024-12-22T07:10:05.971234Z",
     "iopub.status.idle": "2024-12-22T07:10:06.345556Z",
     "shell.execute_reply": "2024-12-22T07:10:06.344400Z"
    },
    "papermill": {
     "duration": 0.387082,
     "end_time": "2024-12-22T07:10:06.347201",
     "exception": false,
     "start_time": "2024-12-22T07:10:05.960119",
     "status": "completed"
    },
    "tags": []
   },
   "outputs": [
    {
     "name": "stdout",
     "output_type": "stream",
     "text": [
      "/kaggle/input/online-payments-fraud-detection-dataset/PS_20174392719_1491204439457_log.csv\n"
     ]
    }
   ],
   "source": [
    "# This Python 3 environment comes with many helpful analytics libraries installed\n",
    "# It is defined by the kaggle/python Docker image: https://github.com/kaggle/docker-python\n",
    "# For example, here's several helpful packages to load\n",
    "\n",
    "import numpy as np # linear algebra\n",
    "import pandas as pd # data processing, CSV file I/O (e.g. pd.read_csv)\n",
    "\n",
    "# Input data files are available in the read-only \"../input/\" directory\n",
    "# For example, running this (by clicking run or pressing Shift+Enter) will list all files under the input directory\n",
    "\n",
    "import os\n",
    "for dirname, _, filenames in os.walk('/kaggle/input'):\n",
    "    for filename in filenames:\n",
    "        print(os.path.join(dirname, filename))\n",
    "\n",
    "# You can write up to 20GB to the current directory (/kaggle/working/) that gets preserved as output when you create a version using \"Save & Run All\" \n",
    "# You can also write temporary files to /kaggle/temp/, but they won't be saved outside of the current session"
   ]
  },
  {
   "cell_type": "code",
   "execution_count": 2,
   "id": "b5937c7a",
   "metadata": {
    "execution": {
     "iopub.execute_input": "2024-12-22T07:10:06.368930Z",
     "iopub.status.busy": "2024-12-22T07:10:06.368396Z",
     "iopub.status.idle": "2024-12-22T07:10:07.784347Z",
     "shell.execute_reply": "2024-12-22T07:10:07.783534Z"
    },
    "papermill": {
     "duration": 1.428622,
     "end_time": "2024-12-22T07:10:07.786118",
     "exception": false,
     "start_time": "2024-12-22T07:10:06.357496",
     "status": "completed"
    },
    "tags": []
   },
   "outputs": [],
   "source": [
    "import matplotlib.pyplot as plt\n",
    "import seaborn as sns"
   ]
  },
  {
   "cell_type": "code",
   "execution_count": 3,
   "id": "2a2e4252",
   "metadata": {
    "execution": {
     "iopub.execute_input": "2024-12-22T07:10:07.807804Z",
     "iopub.status.busy": "2024-12-22T07:10:07.807332Z",
     "iopub.status.idle": "2024-12-22T07:10:26.192460Z",
     "shell.execute_reply": "2024-12-22T07:10:26.191437Z"
    },
    "papermill": {
     "duration": 18.397749,
     "end_time": "2024-12-22T07:10:26.194122",
     "exception": false,
     "start_time": "2024-12-22T07:10:07.796373",
     "status": "completed"
    },
    "tags": []
   },
   "outputs": [
    {
     "data": {
      "text/html": [
       "<div>\n",
       "<style scoped>\n",
       "    .dataframe tbody tr th:only-of-type {\n",
       "        vertical-align: middle;\n",
       "    }\n",
       "\n",
       "    .dataframe tbody tr th {\n",
       "        vertical-align: top;\n",
       "    }\n",
       "\n",
       "    .dataframe thead th {\n",
       "        text-align: right;\n",
       "    }\n",
       "</style>\n",
       "<table border=\"1\" class=\"dataframe\">\n",
       "  <thead>\n",
       "    <tr style=\"text-align: right;\">\n",
       "      <th></th>\n",
       "      <th>step</th>\n",
       "      <th>type</th>\n",
       "      <th>amount</th>\n",
       "      <th>nameOrig</th>\n",
       "      <th>oldbalanceOrg</th>\n",
       "      <th>newbalanceOrig</th>\n",
       "      <th>nameDest</th>\n",
       "      <th>oldbalanceDest</th>\n",
       "      <th>newbalanceDest</th>\n",
       "      <th>isFraud</th>\n",
       "      <th>isFlaggedFraud</th>\n",
       "    </tr>\n",
       "  </thead>\n",
       "  <tbody>\n",
       "    <tr>\n",
       "      <th>0</th>\n",
       "      <td>1</td>\n",
       "      <td>PAYMENT</td>\n",
       "      <td>9839.64</td>\n",
       "      <td>C1231006815</td>\n",
       "      <td>170136.0</td>\n",
       "      <td>160296.36</td>\n",
       "      <td>M1979787155</td>\n",
       "      <td>0.0</td>\n",
       "      <td>0.0</td>\n",
       "      <td>0</td>\n",
       "      <td>0</td>\n",
       "    </tr>\n",
       "    <tr>\n",
       "      <th>1</th>\n",
       "      <td>1</td>\n",
       "      <td>PAYMENT</td>\n",
       "      <td>1864.28</td>\n",
       "      <td>C1666544295</td>\n",
       "      <td>21249.0</td>\n",
       "      <td>19384.72</td>\n",
       "      <td>M2044282225</td>\n",
       "      <td>0.0</td>\n",
       "      <td>0.0</td>\n",
       "      <td>0</td>\n",
       "      <td>0</td>\n",
       "    </tr>\n",
       "    <tr>\n",
       "      <th>2</th>\n",
       "      <td>1</td>\n",
       "      <td>TRANSFER</td>\n",
       "      <td>181.00</td>\n",
       "      <td>C1305486145</td>\n",
       "      <td>181.0</td>\n",
       "      <td>0.00</td>\n",
       "      <td>C553264065</td>\n",
       "      <td>0.0</td>\n",
       "      <td>0.0</td>\n",
       "      <td>1</td>\n",
       "      <td>0</td>\n",
       "    </tr>\n",
       "    <tr>\n",
       "      <th>3</th>\n",
       "      <td>1</td>\n",
       "      <td>CASH_OUT</td>\n",
       "      <td>181.00</td>\n",
       "      <td>C840083671</td>\n",
       "      <td>181.0</td>\n",
       "      <td>0.00</td>\n",
       "      <td>C38997010</td>\n",
       "      <td>21182.0</td>\n",
       "      <td>0.0</td>\n",
       "      <td>1</td>\n",
       "      <td>0</td>\n",
       "    </tr>\n",
       "    <tr>\n",
       "      <th>4</th>\n",
       "      <td>1</td>\n",
       "      <td>PAYMENT</td>\n",
       "      <td>11668.14</td>\n",
       "      <td>C2048537720</td>\n",
       "      <td>41554.0</td>\n",
       "      <td>29885.86</td>\n",
       "      <td>M1230701703</td>\n",
       "      <td>0.0</td>\n",
       "      <td>0.0</td>\n",
       "      <td>0</td>\n",
       "      <td>0</td>\n",
       "    </tr>\n",
       "  </tbody>\n",
       "</table>\n",
       "</div>"
      ],
      "text/plain": [
       "   step      type    amount     nameOrig  oldbalanceOrg  newbalanceOrig  \\\n",
       "0     1   PAYMENT   9839.64  C1231006815       170136.0       160296.36   \n",
       "1     1   PAYMENT   1864.28  C1666544295        21249.0        19384.72   \n",
       "2     1  TRANSFER    181.00  C1305486145          181.0            0.00   \n",
       "3     1  CASH_OUT    181.00   C840083671          181.0            0.00   \n",
       "4     1   PAYMENT  11668.14  C2048537720        41554.0        29885.86   \n",
       "\n",
       "      nameDest  oldbalanceDest  newbalanceDest  isFraud  isFlaggedFraud  \n",
       "0  M1979787155             0.0             0.0        0               0  \n",
       "1  M2044282225             0.0             0.0        0               0  \n",
       "2   C553264065             0.0             0.0        1               0  \n",
       "3    C38997010         21182.0             0.0        1               0  \n",
       "4  M1230701703             0.0             0.0        0               0  "
      ]
     },
     "execution_count": 3,
     "metadata": {},
     "output_type": "execute_result"
    }
   ],
   "source": [
    "df=pd.read_csv('/kaggle/input/online-payments-fraud-detection-dataset/PS_20174392719_1491204439457_log.csv')\n",
    "df.head()"
   ]
  },
  {
   "cell_type": "markdown",
   "id": "405445c4",
   "metadata": {
    "papermill": {
     "duration": 0.009919,
     "end_time": "2024-12-22T07:10:26.215127",
     "exception": false,
     "start_time": "2024-12-22T07:10:26.205208",
     "status": "completed"
    },
    "tags": []
   },
   "source": [
    "# EDA"
   ]
  },
  {
   "cell_type": "code",
   "execution_count": 4,
   "id": "853a352b",
   "metadata": {
    "execution": {
     "iopub.execute_input": "2024-12-22T07:10:26.236653Z",
     "iopub.status.busy": "2024-12-22T07:10:26.236284Z",
     "iopub.status.idle": "2024-12-22T07:10:26.288506Z",
     "shell.execute_reply": "2024-12-22T07:10:26.287482Z"
    },
    "papermill": {
     "duration": 0.064849,
     "end_time": "2024-12-22T07:10:26.290069",
     "exception": false,
     "start_time": "2024-12-22T07:10:26.225220",
     "status": "completed"
    },
    "tags": []
   },
   "outputs": [
    {
     "data": {
      "text/plain": [
       "isFraud\n",
       "0    6354407\n",
       "1       8213\n",
       "Name: count, dtype: int64"
      ]
     },
     "execution_count": 4,
     "metadata": {},
     "output_type": "execute_result"
    }
   ],
   "source": [
    "df['isFraud'].value_counts()"
   ]
  },
  {
   "cell_type": "code",
   "execution_count": 5,
   "id": "6663cc3d",
   "metadata": {
    "execution": {
     "iopub.execute_input": "2024-12-22T07:10:26.311943Z",
     "iopub.status.busy": "2024-12-22T07:10:26.311567Z",
     "iopub.status.idle": "2024-12-22T07:10:26.339119Z",
     "shell.execute_reply": "2024-12-22T07:10:26.338155Z"
    },
    "papermill": {
     "duration": 0.040247,
     "end_time": "2024-12-22T07:10:26.340673",
     "exception": false,
     "start_time": "2024-12-22T07:10:26.300426",
     "status": "completed"
    },
    "tags": []
   },
   "outputs": [
    {
     "data": {
      "text/html": [
       "<div>\n",
       "<style scoped>\n",
       "    .dataframe tbody tr th:only-of-type {\n",
       "        vertical-align: middle;\n",
       "    }\n",
       "\n",
       "    .dataframe tbody tr th {\n",
       "        vertical-align: top;\n",
       "    }\n",
       "\n",
       "    .dataframe thead th {\n",
       "        text-align: right;\n",
       "    }\n",
       "</style>\n",
       "<table border=\"1\" class=\"dataframe\">\n",
       "  <thead>\n",
       "    <tr style=\"text-align: right;\">\n",
       "      <th></th>\n",
       "      <th>type</th>\n",
       "      <th>isFraud</th>\n",
       "    </tr>\n",
       "  </thead>\n",
       "  <tbody>\n",
       "    <tr>\n",
       "      <th>0</th>\n",
       "      <td>CASH_OUT</td>\n",
       "      <td>4116</td>\n",
       "    </tr>\n",
       "    <tr>\n",
       "      <th>1</th>\n",
       "      <td>TRANSFER</td>\n",
       "      <td>4097</td>\n",
       "    </tr>\n",
       "  </tbody>\n",
       "</table>\n",
       "</div>"
      ],
      "text/plain": [
       "       type  isFraud\n",
       "0  CASH_OUT     4116\n",
       "1  TRANSFER     4097"
      ]
     },
     "execution_count": 5,
     "metadata": {},
     "output_type": "execute_result"
    }
   ],
   "source": [
    "# analysing fraud through transaction type\n",
    "fraud_df=df[df['isFraud']==1].groupby('type')['isFraud'].sum().reset_index()\n",
    "fraud_df"
   ]
  },
  {
   "cell_type": "code",
   "execution_count": 6,
   "id": "347a6014",
   "metadata": {
    "execution": {
     "iopub.execute_input": "2024-12-22T07:10:26.364262Z",
     "iopub.status.busy": "2024-12-22T07:10:26.363938Z",
     "iopub.status.idle": "2024-12-22T07:10:26.710661Z",
     "shell.execute_reply": "2024-12-22T07:10:26.709698Z"
    },
    "papermill": {
     "duration": 0.361047,
     "end_time": "2024-12-22T07:10:26.712252",
     "exception": false,
     "start_time": "2024-12-22T07:10:26.351205",
     "status": "completed"
    },
    "tags": []
   },
   "outputs": [
    {
     "data": {
      "text/plain": [
       "array(['PAYMENT', 'TRANSFER', 'CASH_OUT', 'DEBIT', 'CASH_IN'],\n",
       "      dtype=object)"
      ]
     },
     "execution_count": 6,
     "metadata": {},
     "output_type": "execute_result"
    }
   ],
   "source": [
    "df['type'].unique()"
   ]
  },
  {
   "cell_type": "code",
   "execution_count": 7,
   "id": "f899f1bf",
   "metadata": {
    "execution": {
     "iopub.execute_input": "2024-12-22T07:10:26.734271Z",
     "iopub.status.busy": "2024-12-22T07:10:26.733951Z",
     "iopub.status.idle": "2024-12-22T07:10:30.442428Z",
     "shell.execute_reply": "2024-12-22T07:10:30.441429Z"
    },
    "papermill": {
     "duration": 3.721516,
     "end_time": "2024-12-22T07:10:30.444374",
     "exception": false,
     "start_time": "2024-12-22T07:10:26.722858",
     "status": "completed"
    },
    "tags": []
   },
   "outputs": [
    {
     "data": {
      "text/plain": [
       "<Axes: xlabel='type', ylabel='count'>"
      ]
     },
     "execution_count": 7,
     "metadata": {},
     "output_type": "execute_result"
    },
    {
     "data": {
      "image/png": "[encoded data removed]",
      "text/plain": [
       "<Figure size 640x480 with 1 Axes>"
      ]
     },
     "metadata": {},
     "output_type": "display_data"
    }
   ],
   "source": [
    "sns.countplot(df,x='type')"
   ]
  },
  {
   "cell_type": "code",
   "execution_count": 8,
   "id": "35c026fa",
   "metadata": {
    "execution": {
     "iopub.execute_input": "2024-12-22T07:10:30.467570Z",
     "iopub.status.busy": "2024-12-22T07:10:30.467221Z",
     "iopub.status.idle": "2024-12-22T07:10:30.597828Z",
     "shell.execute_reply": "2024-12-22T07:10:30.596387Z"
    },
    "papermill": {
     "duration": 0.145421,
     "end_time": "2024-12-22T07:10:30.600962",
     "exception": false,
     "start_time": "2024-12-22T07:10:30.455541",
     "status": "completed"
    },
    "tags": []
   },
   "outputs": [
    {
     "data": {
      "image/png": "[encoded data removed]",
      "text/plain": [
       "<Figure size 640x480 with 1 Axes>"
      ]
     },
     "metadata": {},
     "output_type": "display_data"
    }
   ],
   "source": [
    "\n",
    "plt.pie(fraud_df['isFraud'],labels=fraud_df['type'], autopct='%1.1f%%', startangle=90)\n",
    "plt.title('Distribution of Fraud in Different transaction type')\n",
    "plt.show()"
   ]
  },
  {
   "cell_type": "markdown",
   "id": "6fe4313d",
   "metadata": {
    "papermill": {
     "duration": 0.029264,
     "end_time": "2024-12-22T07:10:30.663769",
     "exception": false,
     "start_time": "2024-12-22T07:10:30.634505",
     "status": "completed"
    },
    "tags": []
   },
   "source": [
    "we could see that fraud has been done either through cash-out or transfer "
   ]
  },
  {
   "cell_type": "code",
   "execution_count": 9,
   "id": "fdc36c81",
   "metadata": {
    "execution": {
     "iopub.execute_input": "2024-12-22T07:10:30.687960Z",
     "iopub.status.busy": "2024-12-22T07:10:30.687573Z",
     "iopub.status.idle": "2024-12-22T07:10:32.325763Z",
     "shell.execute_reply": "2024-12-22T07:10:32.324687Z"
    },
    "papermill": {
     "duration": 1.65218,
     "end_time": "2024-12-22T07:10:32.327434",
     "exception": false,
     "start_time": "2024-12-22T07:10:30.675254",
     "status": "completed"
    },
    "tags": []
   },
   "outputs": [
    {
     "data": {
      "image/png": "[encoded data removed]",
      "text/plain": [
       "<Figure size 1200x800 with 2 Axes>"
      ]
     },
     "metadata": {},
     "output_type": "display_data"
    }
   ],
   "source": [
    "num_cols=['amount','oldbalanceOrg','newbalanceOrig','newbalanceDest','oldbalanceDest','isFlaggedFraud','isFraud']\n",
    "corr_matrix=df[num_cols].corr()\n",
    "plt.figure(figsize=(12, 8))\n",
    "sns.heatmap(corr_matrix, annot=True, cmap='coolwarm', vmin=-1, vmax=1)\n",
    "plt.title('Correlation Heatmap')\n",
    "plt.show()"
   ]
  },
  {
   "cell_type": "markdown",
   "id": "39562180",
   "metadata": {
    "papermill": {
     "duration": 0.013326,
     "end_time": "2024-12-22T07:10:32.354307",
     "exception": false,
     "start_time": "2024-12-22T07:10:32.340981",
     "status": "completed"
    },
    "tags": []
   },
   "source": [
    "# Data Preprocessing "
   ]
  },
  {
   "cell_type": "code",
   "execution_count": 10,
   "id": "25bc5937",
   "metadata": {
    "execution": {
     "iopub.execute_input": "2024-12-22T07:10:32.383213Z",
     "iopub.status.busy": "2024-12-22T07:10:32.382880Z",
     "iopub.status.idle": "2024-12-22T07:10:32.393239Z",
     "shell.execute_reply": "2024-12-22T07:10:32.392076Z"
    },
    "papermill": {
     "duration": 0.027217,
     "end_time": "2024-12-22T07:10:32.394916",
     "exception": false,
     "start_time": "2024-12-22T07:10:32.367699",
     "status": "completed"
    },
    "tags": []
   },
   "outputs": [
    {
     "name": "stdout",
     "output_type": "stream",
     "text": [
      "<class 'pandas.core.frame.DataFrame'>\n",
      "RangeIndex: 6362620 entries, 0 to 6362619\n",
      "Data columns (total 11 columns):\n",
      " #   Column          Dtype  \n",
      "---  ------          -----  \n",
      " 0   step            int64  \n",
      " 1   type            object \n",
      " 2   amount          float64\n",
      " 3   nameOrig        object \n",
      " 4   oldbalanceOrg   float64\n",
      " 5   newbalanceOrig  float64\n",
      " 6   nameDest        object \n",
      " 7   oldbalanceDest  float64\n",
      " 8   newbalanceDest  float64\n",
      " 9   isFraud         int64  \n",
      " 10  isFlaggedFraud  int64  \n",
      "dtypes: float64(5), int64(3), object(3)\n",
      "memory usage: 534.0+ MB\n"
     ]
    }
   ],
   "source": [
    "df.info()"
   ]
  },
  {
   "cell_type": "code",
   "execution_count": 11,
   "id": "4d9af3ce",
   "metadata": {
    "execution": {
     "iopub.execute_input": "2024-12-22T07:10:32.422237Z",
     "iopub.status.busy": "2024-12-22T07:10:32.421885Z",
     "iopub.status.idle": "2024-12-22T07:10:34.368504Z",
     "shell.execute_reply": "2024-12-22T07:10:34.367429Z"
    },
    "papermill": {
     "duration": 1.962441,
     "end_time": "2024-12-22T07:10:34.370544",
     "exception": false,
     "start_time": "2024-12-22T07:10:32.408103",
     "status": "completed"
    },
    "tags": []
   },
   "outputs": [
    {
     "data": {
      "text/html": [
       "<div>\n",
       "<style scoped>\n",
       "    .dataframe tbody tr th:only-of-type {\n",
       "        vertical-align: middle;\n",
       "    }\n",
       "\n",
       "    .dataframe tbody tr th {\n",
       "        vertical-align: top;\n",
       "    }\n",
       "\n",
       "    .dataframe thead th {\n",
       "        text-align: right;\n",
       "    }\n",
       "</style>\n",
       "<table border=\"1\" class=\"dataframe\">\n",
       "  <thead>\n",
       "    <tr style=\"text-align: right;\">\n",
       "      <th></th>\n",
       "      <th>step</th>\n",
       "      <th>amount</th>\n",
       "      <th>oldbalanceOrg</th>\n",
       "      <th>newbalanceOrig</th>\n",
       "      <th>oldbalanceDest</th>\n",
       "      <th>newbalanceDest</th>\n",
       "      <th>isFraud</th>\n",
       "      <th>isFlaggedFraud</th>\n",
       "    </tr>\n",
       "  </thead>\n",
       "  <tbody>\n",
       "    <tr>\n",
       "      <th>count</th>\n",
       "      <td>6.362620e+06</td>\n",
       "      <td>6.362620e+06</td>\n",
       "      <td>6.362620e+06</td>\n",
       "      <td>6.362620e+06</td>\n",
       "      <td>6.362620e+06</td>\n",
       "      <td>6.362620e+06</td>\n",
       "      <td>6.362620e+06</td>\n",
       "      <td>6.362620e+06</td>\n",
       "    </tr>\n",
       "    <tr>\n",
       "      <th>mean</th>\n",
       "      <td>2.433972e+02</td>\n",
       "      <td>1.798619e+05</td>\n",
       "      <td>8.338831e+05</td>\n",
       "      <td>8.551137e+05</td>\n",
       "      <td>1.100702e+06</td>\n",
       "      <td>1.224996e+06</td>\n",
       "      <td>1.290820e-03</td>\n",
       "      <td>2.514687e-06</td>\n",
       "    </tr>\n",
       "    <tr>\n",
       "      <th>std</th>\n",
       "      <td>1.423320e+02</td>\n",
       "      <td>6.038582e+05</td>\n",
       "      <td>2.888243e+06</td>\n",
       "      <td>2.924049e+06</td>\n",
       "      <td>3.399180e+06</td>\n",
       "      <td>3.674129e+06</td>\n",
       "      <td>3.590480e-02</td>\n",
       "      <td>1.585775e-03</td>\n",
       "    </tr>\n",
       "    <tr>\n",
       "      <th>min</th>\n",
       "      <td>1.000000e+00</td>\n",
       "      <td>0.000000e+00</td>\n",
       "      <td>0.000000e+00</td>\n",
       "      <td>0.000000e+00</td>\n",
       "      <td>0.000000e+00</td>\n",
       "      <td>0.000000e+00</td>\n",
       "      <td>0.000000e+00</td>\n",
       "      <td>0.000000e+00</td>\n",
       "    </tr>\n",
       "    <tr>\n",
       "      <th>25%</th>\n",
       "      <td>1.560000e+02</td>\n",
       "      <td>1.338957e+04</td>\n",
       "      <td>0.000000e+00</td>\n",
       "      <td>0.000000e+00</td>\n",
       "      <td>0.000000e+00</td>\n",
       "      <td>0.000000e+00</td>\n",
       "      <td>0.000000e+00</td>\n",
       "      <td>0.000000e+00</td>\n",
       "    </tr>\n",
       "    <tr>\n",
       "      <th>50%</th>\n",
       "      <td>2.390000e+02</td>\n",
       "      <td>7.487194e+04</td>\n",
       "      <td>1.420800e+04</td>\n",
       "      <td>0.000000e+00</td>\n",
       "      <td>1.327057e+05</td>\n",
       "      <td>2.146614e+05</td>\n",
       "      <td>0.000000e+00</td>\n",
       "      <td>0.000000e+00</td>\n",
       "    </tr>\n",
       "    <tr>\n",
       "      <th>75%</th>\n",
       "      <td>3.350000e+02</td>\n",
       "      <td>2.087215e+05</td>\n",
       "      <td>1.073152e+05</td>\n",
       "      <td>1.442584e+05</td>\n",
       "      <td>9.430367e+05</td>\n",
       "      <td>1.111909e+06</td>\n",
       "      <td>0.000000e+00</td>\n",
       "      <td>0.000000e+00</td>\n",
       "    </tr>\n",
       "    <tr>\n",
       "      <th>max</th>\n",
       "      <td>7.430000e+02</td>\n",
       "      <td>9.244552e+07</td>\n",
       "      <td>5.958504e+07</td>\n",
       "      <td>4.958504e+07</td>\n",
       "      <td>3.560159e+08</td>\n",
       "      <td>3.561793e+08</td>\n",
       "      <td>1.000000e+00</td>\n",
       "      <td>1.000000e+00</td>\n",
       "    </tr>\n",
       "  </tbody>\n",
       "</table>\n",
       "</div>"
      ],
      "text/plain": [
       "               step        amount  oldbalanceOrg  newbalanceOrig  \\\n",
       "count  6.362620e+06  6.362620e+06   6.362620e+06    6.362620e+06   \n",
       "mean   2.433972e+02  1.798619e+05   8.338831e+05    8.551137e+05   \n",
       "std    1.423320e+02  6.038582e+05   2.888243e+06    2.924049e+06   \n",
       "min    1.000000e+00  0.000000e+00   0.000000e+00    0.000000e+00   \n",
       "25%    1.560000e+02  1.338957e+04   0.000000e+00    0.000000e+00   \n",
       "50%    2.390000e+02  7.487194e+04   1.420800e+04    0.000000e+00   \n",
       "75%    3.350000e+02  2.087215e+05   1.073152e+05    1.442584e+05   \n",
       "max    7.430000e+02  9.244552e+07   5.958504e+07    4.958504e+07   \n",
       "\n",
       "       oldbalanceDest  newbalanceDest       isFraud  isFlaggedFraud  \n",
       "count    6.362620e+06    6.362620e+06  6.362620e+06    6.362620e+06  \n",
       "mean     1.100702e+06    1.224996e+06  1.290820e-03    2.514687e-06  \n",
       "std      3.399180e+06    3.674129e+06  3.590480e-02    1.585775e-03  \n",
       "min      0.000000e+00    0.000000e+00  0.000000e+00    0.000000e+00  \n",
       "25%      0.000000e+00    0.000000e+00  0.000000e+00    0.000000e+00  \n",
       "50%      1.327057e+05    2.146614e+05  0.000000e+00    0.000000e+00  \n",
       "75%      9.430367e+05    1.111909e+06  0.000000e+00    0.000000e+00  \n",
       "max      3.560159e+08    3.561793e+08  1.000000e+00    1.000000e+00  "
      ]
     },
     "execution_count": 11,
     "metadata": {},
     "output_type": "execute_result"
    }
   ],
   "source": [
    "df.describe()"
   ]
  },
  {
   "cell_type": "code",
   "execution_count": 12,
   "id": "45b7ed59",
   "metadata": {
    "execution": {
     "iopub.execute_input": "2024-12-22T07:10:34.406404Z",
     "iopub.status.busy": "2024-12-22T07:10:34.406044Z",
     "iopub.status.idle": "2024-12-22T07:10:35.356752Z",
     "shell.execute_reply": "2024-12-22T07:10:35.355746Z"
    },
    "papermill": {
     "duration": 0.966746,
     "end_time": "2024-12-22T07:10:35.358473",
     "exception": false,
     "start_time": "2024-12-22T07:10:34.391727",
     "status": "completed"
    },
    "tags": []
   },
   "outputs": [
    {
     "data": {
      "text/plain": [
       "step              0\n",
       "type              0\n",
       "amount            0\n",
       "nameOrig          0\n",
       "oldbalanceOrg     0\n",
       "newbalanceOrig    0\n",
       "nameDest          0\n",
       "oldbalanceDest    0\n",
       "newbalanceDest    0\n",
       "isFraud           0\n",
       "isFlaggedFraud    0\n",
       "dtype: int64"
      ]
     },
     "execution_count": 12,
     "metadata": {},
     "output_type": "execute_result"
    }
   ],
   "source": [
    "df.isna().sum()"
   ]
  },
  {
   "cell_type": "code",
   "execution_count": 13,
   "id": "df20470e",
   "metadata": {
    "execution": {
     "iopub.execute_input": "2024-12-22T07:10:35.386650Z",
     "iopub.status.busy": "2024-12-22T07:10:35.386264Z",
     "iopub.status.idle": "2024-12-22T07:10:48.345700Z",
     "shell.execute_reply": "2024-12-22T07:10:48.344623Z"
    },
    "papermill": {
     "duration": 12.975427,
     "end_time": "2024-12-22T07:10:48.347462",
     "exception": false,
     "start_time": "2024-12-22T07:10:35.372035",
     "status": "completed"
    },
    "tags": []
   },
   "outputs": [
    {
     "data": {
      "text/plain": [
       "0"
      ]
     },
     "execution_count": 13,
     "metadata": {},
     "output_type": "execute_result"
    }
   ],
   "source": [
    "df.duplicated().sum()"
   ]
  },
  {
   "cell_type": "code",
   "execution_count": null,
   "id": "0722f9d0",
   "metadata": {
    "papermill": {
     "duration": 0.013853,
     "end_time": "2024-12-22T07:10:48.375276",
     "exception": false,
     "start_time": "2024-12-22T07:10:48.361423",
     "status": "completed"
    },
    "tags": []
   },
   "outputs": [],
   "source": []
  },
  {
   "cell_type": "code",
   "execution_count": 14,
   "id": "89ec1be8",
   "metadata": {
    "execution": {
     "iopub.execute_input": "2024-12-22T07:10:48.404346Z",
     "iopub.status.busy": "2024-12-22T07:10:48.403993Z",
     "iopub.status.idle": "2024-12-22T07:10:48.408402Z",
     "shell.execute_reply": "2024-12-22T07:10:48.407180Z"
    },
    "papermill": {
     "duration": 0.021307,
     "end_time": "2024-12-22T07:10:48.410267",
     "exception": false,
     "start_time": "2024-12-22T07:10:48.388960",
     "status": "completed"
    },
    "tags": []
   },
   "outputs": [],
   "source": [
    "input_cols=['type','amount','oldbalanceOrg','newbalanceOrig','newbalanceDest','oldbalanceDest','isFlaggedFraud']\n",
    "tar_col=['isFraud']"
   ]
  },
  {
   "cell_type": "code",
   "execution_count": 15,
   "id": "dab9d86f",
   "metadata": {
    "execution": {
     "iopub.execute_input": "2024-12-22T07:10:48.440841Z",
     "iopub.status.busy": "2024-12-22T07:10:48.440446Z",
     "iopub.status.idle": "2024-12-22T07:10:48.630014Z",
     "shell.execute_reply": "2024-12-22T07:10:48.628919Z"
    },
    "papermill": {
     "duration": 0.207649,
     "end_time": "2024-12-22T07:10:48.631877",
     "exception": false,
     "start_time": "2024-12-22T07:10:48.424228",
     "status": "completed"
    },
    "tags": []
   },
   "outputs": [],
   "source": [
    "x=df[input_cols]\n",
    "y=df[tar_col]"
   ]
  },
  {
   "cell_type": "code",
   "execution_count": 16,
   "id": "f04c2ae8",
   "metadata": {
    "execution": {
     "iopub.execute_input": "2024-12-22T07:10:48.660263Z",
     "iopub.status.busy": "2024-12-22T07:10:48.659906Z",
     "iopub.status.idle": "2024-12-22T07:10:48.847943Z",
     "shell.execute_reply": "2024-12-22T07:10:48.846535Z"
    },
    "papermill": {
     "duration": 0.204628,
     "end_time": "2024-12-22T07:10:48.849853",
     "exception": false,
     "start_time": "2024-12-22T07:10:48.645225",
     "status": "completed"
    },
    "tags": []
   },
   "outputs": [],
   "source": [
    "num_cols=x.select_dtypes(include=np.number).columns.tolist()\n",
    "cat_cols=x.select_dtypes(include='object').columns.tolist()\n"
   ]
  },
  {
   "cell_type": "markdown",
   "id": "0472146b",
   "metadata": {
    "papermill": {
     "duration": 0.013162,
     "end_time": "2024-12-22T07:10:48.877275",
     "exception": false,
     "start_time": "2024-12-22T07:10:48.864113",
     "status": "completed"
    },
    "tags": []
   },
   "source": [
    "## Feature scaling"
   ]
  },
  {
   "cell_type": "code",
   "execution_count": 17,
   "id": "414ddcdf",
   "metadata": {
    "execution": {
     "iopub.execute_input": "2024-12-22T07:10:48.905751Z",
     "iopub.status.busy": "2024-12-22T07:10:48.905320Z",
     "iopub.status.idle": "2024-12-22T07:10:49.593457Z",
     "shell.execute_reply": "2024-12-22T07:10:49.592363Z"
    },
    "papermill": {
     "duration": 0.704277,
     "end_time": "2024-12-22T07:10:49.595383",
     "exception": false,
     "start_time": "2024-12-22T07:10:48.891106",
     "status": "completed"
    },
    "tags": []
   },
   "outputs": [],
   "source": [
    "from sklearn.preprocessing import StandardScaler\n",
    "sc=StandardScaler().fit(x[num_cols])"
   ]
  },
  {
   "cell_type": "code",
   "execution_count": 18,
   "id": "d2138e63",
   "metadata": {
    "execution": {
     "iopub.execute_input": "2024-12-22T07:10:49.623110Z",
     "iopub.status.busy": "2024-12-22T07:10:49.622755Z",
     "iopub.status.idle": "2024-12-22T07:10:50.145726Z",
     "shell.execute_reply": "2024-12-22T07:10:50.144693Z"
    },
    "papermill": {
     "duration": 0.538701,
     "end_time": "2024-12-22T07:10:50.147677",
     "exception": false,
     "start_time": "2024-12-22T07:10:49.608976",
     "status": "completed"
    },
    "tags": []
   },
   "outputs": [],
   "source": [
    "x.loc[:, num_cols] = sc.transform(x[num_cols])"
   ]
  },
  {
   "cell_type": "markdown",
   "id": "613288c7",
   "metadata": {
    "papermill": {
     "duration": 0.012867,
     "end_time": "2024-12-22T07:10:50.173887",
     "exception": false,
     "start_time": "2024-12-22T07:10:50.161020",
     "status": "completed"
    },
    "tags": []
   },
   "source": [
    "## Encoding categorical data"
   ]
  },
  {
   "cell_type": "code",
   "execution_count": 19,
   "id": "cf51eff0",
   "metadata": {
    "execution": {
     "iopub.execute_input": "2024-12-22T07:10:50.201091Z",
     "iopub.status.busy": "2024-12-22T07:10:50.200727Z",
     "iopub.status.idle": "2024-12-22T07:10:50.484921Z",
     "shell.execute_reply": "2024-12-22T07:10:50.483695Z"
    },
    "papermill": {
     "duration": 0.299717,
     "end_time": "2024-12-22T07:10:50.486916",
     "exception": false,
     "start_time": "2024-12-22T07:10:50.187199",
     "status": "completed"
    },
    "tags": []
   },
   "outputs": [],
   "source": [
    "from sklearn.preprocessing import OneHotEncoder\n",
    "encoder=OneHotEncoder().fit(x[cat_cols])"
   ]
  },
  {
   "cell_type": "code",
   "execution_count": 20,
   "id": "c7c2f275",
   "metadata": {
    "execution": {
     "iopub.execute_input": "2024-12-22T07:10:50.515431Z",
     "iopub.status.busy": "2024-12-22T07:10:50.515090Z",
     "iopub.status.idle": "2024-12-22T07:10:50.519046Z",
     "shell.execute_reply": "2024-12-22T07:10:50.518246Z"
    },
    "papermill": {
     "duration": 0.01982,
     "end_time": "2024-12-22T07:10:50.520556",
     "exception": false,
     "start_time": "2024-12-22T07:10:50.500736",
     "status": "completed"
    },
    "tags": []
   },
   "outputs": [],
   "source": [
    "encoded_list=list(encoder.get_feature_names_out(cat_cols))"
   ]
  },
  {
   "cell_type": "code",
   "execution_count": 21,
   "id": "d8d6d3d3",
   "metadata": {
    "execution": {
     "iopub.execute_input": "2024-12-22T07:10:50.548370Z",
     "iopub.status.busy": "2024-12-22T07:10:50.548020Z",
     "iopub.status.idle": "2024-12-22T07:10:52.592130Z",
     "shell.execute_reply": "2024-12-22T07:10:52.590959Z"
    },
    "papermill": {
     "duration": 2.060183,
     "end_time": "2024-12-22T07:10:52.594043",
     "exception": false,
     "start_time": "2024-12-22T07:10:50.533860",
     "status": "completed"
    },
    "tags": []
   },
   "outputs": [],
   "source": [
    "x.loc[:,encoded_list]=encoder.transform(x[cat_cols]).toarray()"
   ]
  },
  {
   "cell_type": "code",
   "execution_count": 22,
   "id": "e758a8a2",
   "metadata": {
    "execution": {
     "iopub.execute_input": "2024-12-22T07:10:52.623159Z",
     "iopub.status.busy": "2024-12-22T07:10:52.622822Z",
     "iopub.status.idle": "2024-12-22T07:10:52.881824Z",
     "shell.execute_reply": "2024-12-22T07:10:52.880949Z"
    },
    "papermill": {
     "duration": 0.275343,
     "end_time": "2024-12-22T07:10:52.883699",
     "exception": false,
     "start_time": "2024-12-22T07:10:52.608356",
     "status": "completed"
    },
    "tags": []
   },
   "outputs": [],
   "source": [
    "x=x[num_cols + encoded_list]"
   ]
  },
  {
   "cell_type": "code",
   "execution_count": null,
   "id": "7079c4d0",
   "metadata": {
    "papermill": {
     "duration": 0.013367,
     "end_time": "2024-12-22T07:10:52.911037",
     "exception": false,
     "start_time": "2024-12-22T07:10:52.897670",
     "status": "completed"
    },
    "tags": []
   },
   "outputs": [],
   "source": []
  },
  {
   "cell_type": "code",
   "execution_count": 23,
   "id": "440c5e60",
   "metadata": {
    "execution": {
     "iopub.execute_input": "2024-12-22T07:10:52.939634Z",
     "iopub.status.busy": "2024-12-22T07:10:52.939278Z",
     "iopub.status.idle": "2024-12-22T07:10:52.954721Z",
     "shell.execute_reply": "2024-12-22T07:10:52.953944Z"
    },
    "papermill": {
     "duration": 0.031143,
     "end_time": "2024-12-22T07:10:52.956340",
     "exception": false,
     "start_time": "2024-12-22T07:10:52.925197",
     "status": "completed"
    },
    "tags": []
   },
   "outputs": [
    {
     "data": {
      "text/html": [
       "<div>\n",
       "<style scoped>\n",
       "    .dataframe tbody tr th:only-of-type {\n",
       "        vertical-align: middle;\n",
       "    }\n",
       "\n",
       "    .dataframe tbody tr th {\n",
       "        vertical-align: top;\n",
       "    }\n",
       "\n",
       "    .dataframe thead th {\n",
       "        text-align: right;\n",
       "    }\n",
       "</style>\n",
       "<table border=\"1\" class=\"dataframe\">\n",
       "  <thead>\n",
       "    <tr style=\"text-align: right;\">\n",
       "      <th></th>\n",
       "      <th>amount</th>\n",
       "      <th>oldbalanceOrg</th>\n",
       "      <th>newbalanceOrig</th>\n",
       "      <th>newbalanceDest</th>\n",
       "      <th>oldbalanceDest</th>\n",
       "      <th>isFlaggedFraud</th>\n",
       "      <th>type_CASH_IN</th>\n",
       "      <th>type_CASH_OUT</th>\n",
       "      <th>type_DEBIT</th>\n",
       "      <th>type_PAYMENT</th>\n",
       "      <th>type_TRANSFER</th>\n",
       "    </tr>\n",
       "  </thead>\n",
       "  <tbody>\n",
       "    <tr>\n",
       "      <th>0</th>\n",
       "      <td>-0.281560</td>\n",
       "      <td>-0.229810</td>\n",
       "      <td>-0.237622</td>\n",
       "      <td>-0.333411</td>\n",
       "      <td>-0.323814</td>\n",
       "      <td>-0.001586</td>\n",
       "      <td>0.0</td>\n",
       "      <td>0.0</td>\n",
       "      <td>0.0</td>\n",
       "      <td>1.0</td>\n",
       "      <td>0.0</td>\n",
       "    </tr>\n",
       "    <tr>\n",
       "      <th>1</th>\n",
       "      <td>-0.294767</td>\n",
       "      <td>-0.281359</td>\n",
       "      <td>-0.285812</td>\n",
       "      <td>-0.333411</td>\n",
       "      <td>-0.323814</td>\n",
       "      <td>-0.001586</td>\n",
       "      <td>0.0</td>\n",
       "      <td>0.0</td>\n",
       "      <td>0.0</td>\n",
       "      <td>1.0</td>\n",
       "      <td>0.0</td>\n",
       "    </tr>\n",
       "    <tr>\n",
       "      <th>2</th>\n",
       "      <td>-0.297555</td>\n",
       "      <td>-0.288654</td>\n",
       "      <td>-0.292442</td>\n",
       "      <td>-0.333411</td>\n",
       "      <td>-0.323814</td>\n",
       "      <td>-0.001586</td>\n",
       "      <td>0.0</td>\n",
       "      <td>0.0</td>\n",
       "      <td>0.0</td>\n",
       "      <td>0.0</td>\n",
       "      <td>1.0</td>\n",
       "    </tr>\n",
       "    <tr>\n",
       "      <th>3</th>\n",
       "      <td>-0.297555</td>\n",
       "      <td>-0.288654</td>\n",
       "      <td>-0.292442</td>\n",
       "      <td>-0.333411</td>\n",
       "      <td>-0.317582</td>\n",
       "      <td>-0.001586</td>\n",
       "      <td>0.0</td>\n",
       "      <td>1.0</td>\n",
       "      <td>0.0</td>\n",
       "      <td>0.0</td>\n",
       "      <td>0.0</td>\n",
       "    </tr>\n",
       "    <tr>\n",
       "      <th>4</th>\n",
       "      <td>-0.278532</td>\n",
       "      <td>-0.274329</td>\n",
       "      <td>-0.282221</td>\n",
       "      <td>-0.333411</td>\n",
       "      <td>-0.323814</td>\n",
       "      <td>-0.001586</td>\n",
       "      <td>0.0</td>\n",
       "      <td>0.0</td>\n",
       "      <td>0.0</td>\n",
       "      <td>1.0</td>\n",
       "      <td>0.0</td>\n",
       "    </tr>\n",
       "  </tbody>\n",
       "</table>\n",
       "</div>"
      ],
      "text/plain": [
       "     amount  oldbalanceOrg  newbalanceOrig  newbalanceDest  oldbalanceDest  \\\n",
       "0 -0.281560      -0.229810       -0.237622       -0.333411       -0.323814   \n",
       "1 -0.294767      -0.281359       -0.285812       -0.333411       -0.323814   \n",
       "2 -0.297555      -0.288654       -0.292442       -0.333411       -0.323814   \n",
       "3 -0.297555      -0.288654       -0.292442       -0.333411       -0.317582   \n",
       "4 -0.278532      -0.274329       -0.282221       -0.333411       -0.323814   \n",
       "\n",
       "   isFlaggedFraud  type_CASH_IN  type_CASH_OUT  type_DEBIT  type_PAYMENT  \\\n",
       "0       -0.001586           0.0            0.0         0.0           1.0   \n",
       "1       -0.001586           0.0            0.0         0.0           1.0   \n",
       "2       -0.001586           0.0            0.0         0.0           0.0   \n",
       "3       -0.001586           0.0            1.0         0.0           0.0   \n",
       "4       -0.001586           0.0            0.0         0.0           1.0   \n",
       "\n",
       "   type_TRANSFER  \n",
       "0            0.0  \n",
       "1            0.0  \n",
       "2            1.0  \n",
       "3            0.0  \n",
       "4            0.0  "
      ]
     },
     "execution_count": 23,
     "metadata": {},
     "output_type": "execute_result"
    }
   ],
   "source": [
    "x.head()"
   ]
  },
  {
   "cell_type": "markdown",
   "id": "7303362b",
   "metadata": {
    "papermill": {
     "duration": 0.013488,
     "end_time": "2024-12-22T07:10:52.983772",
     "exception": false,
     "start_time": "2024-12-22T07:10:52.970284",
     "status": "completed"
    },
    "tags": []
   },
   "source": [
    "##  splitting data into test set and training set\n"
   ]
  },
  {
   "cell_type": "code",
   "execution_count": 24,
   "id": "ad9f14fb",
   "metadata": {
    "execution": {
     "iopub.execute_input": "2024-12-22T07:10:53.012516Z",
     "iopub.status.busy": "2024-12-22T07:10:53.012168Z",
     "iopub.status.idle": "2024-12-22T07:10:54.779505Z",
     "shell.execute_reply": "2024-12-22T07:10:54.778693Z"
    },
    "papermill": {
     "duration": 1.783788,
     "end_time": "2024-12-22T07:10:54.781281",
     "exception": false,
     "start_time": "2024-12-22T07:10:52.997493",
     "status": "completed"
    },
    "tags": []
   },
   "outputs": [],
   "source": [
    "from sklearn.model_selection import train_test_split\n",
    "x_train,x_test,y_train,y_test = train_test_split(x,y,test_size=0.25,random_state=42)"
   ]
  },
  {
   "cell_type": "code",
   "execution_count": 25,
   "id": "62593313",
   "metadata": {
    "execution": {
     "iopub.execute_input": "2024-12-22T07:10:54.810815Z",
     "iopub.status.busy": "2024-12-22T07:10:54.810445Z",
     "iopub.status.idle": "2024-12-22T07:10:56.929503Z",
     "shell.execute_reply": "2024-12-22T07:10:56.928665Z"
    },
    "papermill": {
     "duration": 2.135664,
     "end_time": "2024-12-22T07:10:56.931424",
     "exception": false,
     "start_time": "2024-12-22T07:10:54.795760",
     "status": "completed"
    },
    "tags": []
   },
   "outputs": [],
   "source": [
    "from imblearn.under_sampling import RandomUnderSampler\n",
    "\n",
    "undersample = RandomUnderSampler(random_state=42)\n",
    "x_resampled, y_resampled = undersample.fit_resample(x_train, y_train)\n",
    "x_test_resampled,y_test_resampled=undersample.fit_resample(x_test,y_test)"
   ]
  },
  {
   "cell_type": "code",
   "execution_count": 26,
   "id": "07bbc9de",
   "metadata": {
    "execution": {
     "iopub.execute_input": "2024-12-22T07:10:56.960279Z",
     "iopub.status.busy": "2024-12-22T07:10:56.959753Z",
     "iopub.status.idle": "2024-12-22T07:10:56.978709Z",
     "shell.execute_reply": "2024-12-22T07:10:56.977658Z"
    },
    "papermill": {
     "duration": 0.034949,
     "end_time": "2024-12-22T07:10:56.980224",
     "exception": false,
     "start_time": "2024-12-22T07:10:56.945275",
     "status": "completed"
    },
    "tags": []
   },
   "outputs": [],
   "source": [
    "x_train=x_resampled\n",
    "y_train=y_resampled\n",
    "x_test=x_test_resampled\n",
    "y_test=y_test_resampled"
   ]
  },
  {
   "cell_type": "markdown",
   "id": "ca8cf426",
   "metadata": {
    "papermill": {
     "duration": 0.013059,
     "end_time": "2024-12-22T07:10:57.006496",
     "exception": false,
     "start_time": "2024-12-22T07:10:56.993437",
     "status": "completed"
    },
    "tags": []
   },
   "source": [
    "# Training And Evaluating Model"
   ]
  },
  {
   "cell_type": "code",
   "execution_count": 27,
   "id": "f1f1ee07",
   "metadata": {
    "execution": {
     "iopub.execute_input": "2024-12-22T07:10:57.035570Z",
     "iopub.status.busy": "2024-12-22T07:10:57.035217Z",
     "iopub.status.idle": "2024-12-22T07:10:57.039051Z",
     "shell.execute_reply": "2024-12-22T07:10:57.038195Z"
    },
    "papermill": {
     "duration": 0.019987,
     "end_time": "2024-12-22T07:10:57.040559",
     "exception": false,
     "start_time": "2024-12-22T07:10:57.020572",
     "status": "completed"
    },
    "tags": []
   },
   "outputs": [],
   "source": [
    "from sklearn.metrics import accuracy_score, confusion_matrix,classification_report"
   ]
  },
  {
   "cell_type": "code",
   "execution_count": 28,
   "id": "b7170ebd",
   "metadata": {
    "execution": {
     "iopub.execute_input": "2024-12-22T07:10:57.070326Z",
     "iopub.status.busy": "2024-12-22T07:10:57.069963Z",
     "iopub.status.idle": "2024-12-22T07:10:57.075377Z",
     "shell.execute_reply": "2024-12-22T07:10:57.074329Z"
    },
    "papermill": {
     "duration": 0.022338,
     "end_time": "2024-12-22T07:10:57.077108",
     "exception": false,
     "start_time": "2024-12-22T07:10:57.054770",
     "status": "completed"
    },
    "tags": []
   },
   "outputs": [],
   "source": [
    "def train_test_model(model):\n",
    "    model.fit(x_train,y_train)\n",
    "    y_pred=model.predict(x_test)\n",
    "    score=accuracy_score(y_test,y_pred)\n",
    "    print(f'accuracy score of {model} is :{score}')\n",
    "    print(f'{classification_report(y_test,y_pred)}')\n",
    "    mx=confusion_matrix(y_test,y_pred)\n",
    "    sns.heatmap(mx,annot=True, fmt='d', cmap='Blues', xticklabels=['No Fraud', 'Fraud'], yticklabels=['No Fraud', 'Fraud'])\n",
    "    plt.title('Confusion Matrix')\n",
    "    plt.xlabel('Predicted')\n",
    "    plt.ylabel('Actual')\n",
    "    plt.show()\n",
    "   \n",
    "    "
   ]
  },
  {
   "cell_type": "code",
   "execution_count": 29,
   "id": "a3ec238f",
   "metadata": {
    "execution": {
     "iopub.execute_input": "2024-12-22T07:10:57.106538Z",
     "iopub.status.busy": "2024-12-22T07:10:57.106168Z",
     "iopub.status.idle": "2024-12-22T07:10:57.349443Z",
     "shell.execute_reply": "2024-12-22T07:10:57.348679Z"
    },
    "papermill": {
     "duration": 0.259953,
     "end_time": "2024-12-22T07:10:57.351363",
     "exception": false,
     "start_time": "2024-12-22T07:10:57.091410",
     "status": "completed"
    },
    "tags": []
   },
   "outputs": [],
   "source": [
    "from sklearn.linear_model import LogisticRegression\n",
    "from sklearn.tree import DecisionTreeClassifier\n",
    "from sklearn.ensemble import RandomForestClassifier , GradientBoostingClassifier \n",
    "import xgboost as xg\n",
    "from sklearn.svm import SVC\n",
    "from sklearn.neighbors import KNeighborsClassifier\n",
    "from sklearn.naive_bayes import GaussianNB"
   ]
  },
  {
   "cell_type": "code",
   "execution_count": 30,
   "id": "adedc1a6",
   "metadata": {
    "execution": {
     "iopub.execute_input": "2024-12-22T07:10:57.379534Z",
     "iopub.status.busy": "2024-12-22T07:10:57.379182Z",
     "iopub.status.idle": "2024-12-22T07:10:57.383353Z",
     "shell.execute_reply": "2024-12-22T07:10:57.382137Z"
    },
    "papermill": {
     "duration": 0.02018,
     "end_time": "2024-12-22T07:10:57.385070",
     "exception": false,
     "start_time": "2024-12-22T07:10:57.364890",
     "status": "completed"
    },
    "tags": []
   },
   "outputs": [],
   "source": [
    "import warnings\n",
    "warnings.filterwarnings(\"ignore\")"
   ]
  },
  {
   "cell_type": "markdown",
   "id": "7be8a8b0",
   "metadata": {
    "papermill": {
     "duration": 0.013647,
     "end_time": "2024-12-22T07:10:57.412414",
     "exception": false,
     "start_time": "2024-12-22T07:10:57.398767",
     "status": "completed"
    },
    "tags": []
   },
   "source": [
    "## Logistic Regression"
   ]
  },
  {
   "cell_type": "code",
   "execution_count": 31,
   "id": "b84d707f",
   "metadata": {
    "execution": {
     "iopub.execute_input": "2024-12-22T07:10:57.440742Z",
     "iopub.status.busy": "2024-12-22T07:10:57.440354Z",
     "iopub.status.idle": "2024-12-22T07:10:57.915079Z",
     "shell.execute_reply": "2024-12-22T07:10:57.914029Z"
    },
    "papermill": {
     "duration": 0.490555,
     "end_time": "2024-12-22T07:10:57.916631",
     "exception": false,
     "start_time": "2024-12-22T07:10:57.426076",
     "status": "completed"
    },
    "tags": []
   },
   "outputs": [
    {
     "name": "stdout",
     "output_type": "stream",
     "text": [
      "accuracy score of LogisticRegression() is :0.9276283618581908\n",
      "              precision    recall  f1-score   support\n",
      "\n",
      "           0       0.92      0.94      0.93      2045\n",
      "           1       0.94      0.92      0.93      2045\n",
      "\n",
      "    accuracy                           0.93      4090\n",
      "   macro avg       0.93      0.93      0.93      4090\n",
      "weighted avg       0.93      0.93      0.93      4090\n",
      "\n"
     ]
    },
    {
     "data": {
      "image/png": "[encoded data removed]",
      "text/plain": [
       "<Figure size 640x480 with 2 Axes>"
      ]
     },
     "metadata": {},
     "output_type": "display_data"
    }
   ],
   "source": [
    "train_test_model(LogisticRegression())"
   ]
  },
  {
   "cell_type": "markdown",
   "id": "be73a3d3",
   "metadata": {
    "papermill": {
     "duration": 0.013514,
     "end_time": "2024-12-22T07:10:57.944419",
     "exception": false,
     "start_time": "2024-12-22T07:10:57.930905",
     "status": "completed"
    },
    "tags": []
   },
   "source": [
    "## Decision Tree"
   ]
  },
  {
   "cell_type": "code",
   "execution_count": 32,
   "id": "e57ab886",
   "metadata": {
    "execution": {
     "iopub.execute_input": "2024-12-22T07:10:57.973242Z",
     "iopub.status.busy": "2024-12-22T07:10:57.972860Z",
     "iopub.status.idle": "2024-12-22T07:10:58.235952Z",
     "shell.execute_reply": "2024-12-22T07:10:58.234862Z"
    },
    "papermill": {
     "duration": 0.279556,
     "end_time": "2024-12-22T07:10:58.237499",
     "exception": false,
     "start_time": "2024-12-22T07:10:57.957943",
     "status": "completed"
    },
    "tags": []
   },
   "outputs": [
    {
     "name": "stdout",
     "output_type": "stream",
     "text": [
      "accuracy score of DecisionTreeClassifier(max_depth=20) is :0.9941320293398533\n",
      "              precision    recall  f1-score   support\n",
      "\n",
      "           0       1.00      0.99      0.99      2045\n",
      "           1       0.99      1.00      0.99      2045\n",
      "\n",
      "    accuracy                           0.99      4090\n",
      "   macro avg       0.99      0.99      0.99      4090\n",
      "weighted avg       0.99      0.99      0.99      4090\n",
      "\n"
     ]
    },
    {
     "data": {
      "image/png": "[encoded data removed]",
      "text/plain": [
       "<Figure size 640x480 with 2 Axes>"
      ]
     },
     "metadata": {},
     "output_type": "display_data"
    }
   ],
   "source": [
    "train_test_model(DecisionTreeClassifier(max_depth=20))"
   ]
  },
  {
   "cell_type": "markdown",
   "id": "8ac72a8b",
   "metadata": {
    "papermill": {
     "duration": 0.014292,
     "end_time": "2024-12-22T07:10:58.266912",
     "exception": false,
     "start_time": "2024-12-22T07:10:58.252620",
     "status": "completed"
    },
    "tags": []
   },
   "source": [
    "## Random Forest"
   ]
  },
  {
   "cell_type": "code",
   "execution_count": 33,
   "id": "c711a60e",
   "metadata": {
    "execution": {
     "iopub.execute_input": "2024-12-22T07:10:58.297382Z",
     "iopub.status.busy": "2024-12-22T07:10:58.297035Z",
     "iopub.status.idle": "2024-12-22T07:10:58.305100Z",
     "shell.execute_reply": "2024-12-22T07:10:58.304125Z"
    },
    "papermill": {
     "duration": 0.025323,
     "end_time": "2024-12-22T07:10:58.306538",
     "exception": false,
     "start_time": "2024-12-22T07:10:58.281215",
     "status": "completed"
    },
    "tags": []
   },
   "outputs": [
    {
     "data": {
      "text/plain": [
       "amount            12336\n",
       "oldbalanceOrg     12336\n",
       "newbalanceOrig    12336\n",
       "newbalanceDest    12336\n",
       "oldbalanceDest    12336\n",
       "isFlaggedFraud    12336\n",
       "type_CASH_IN      12336\n",
       "type_CASH_OUT     12336\n",
       "type_DEBIT        12336\n",
       "type_PAYMENT      12336\n",
       "type_TRANSFER     12336\n",
       "dtype: int64"
      ]
     },
     "execution_count": 33,
     "metadata": {},
     "output_type": "execute_result"
    }
   ],
   "source": [
    "x_train.count()"
   ]
  },
  {
   "cell_type": "code",
   "execution_count": 34,
   "id": "a94af00a",
   "metadata": {
    "execution": {
     "iopub.execute_input": "2024-12-22T07:10:58.337972Z",
     "iopub.status.busy": "2024-12-22T07:10:58.337553Z",
     "iopub.status.idle": "2024-12-22T07:10:58.345997Z",
     "shell.execute_reply": "2024-12-22T07:10:58.345171Z"
    },
    "papermill": {
     "duration": 0.025735,
     "end_time": "2024-12-22T07:10:58.347371",
     "exception": false,
     "start_time": "2024-12-22T07:10:58.321636",
     "status": "completed"
    },
    "tags": []
   },
   "outputs": [
    {
     "data": {
      "text/plain": [
       "amount            4090\n",
       "oldbalanceOrg     4090\n",
       "newbalanceOrig    4090\n",
       "newbalanceDest    4090\n",
       "oldbalanceDest    4090\n",
       "isFlaggedFraud    4090\n",
       "type_CASH_IN      4090\n",
       "type_CASH_OUT     4090\n",
       "type_DEBIT        4090\n",
       "type_PAYMENT      4090\n",
       "type_TRANSFER     4090\n",
       "dtype: int64"
      ]
     },
     "execution_count": 34,
     "metadata": {},
     "output_type": "execute_result"
    }
   ],
   "source": [
    "x_test.count()"
   ]
  },
  {
   "cell_type": "code",
   "execution_count": 35,
   "id": "63d56a56",
   "metadata": {
    "execution": {
     "iopub.execute_input": "2024-12-22T07:10:58.378319Z",
     "iopub.status.busy": "2024-12-22T07:10:58.377998Z",
     "iopub.status.idle": "2024-12-22T07:10:59.739769Z",
     "shell.execute_reply": "2024-12-22T07:10:59.738721Z"
    },
    "papermill": {
     "duration": 1.37922,
     "end_time": "2024-12-22T07:10:59.741453",
     "exception": false,
     "start_time": "2024-12-22T07:10:58.362233",
     "status": "completed"
    },
    "tags": []
   },
   "outputs": [
    {
     "name": "stdout",
     "output_type": "stream",
     "text": [
      "accuracy score of RandomForestClassifier() is :0.993643031784841\n",
      "              precision    recall  f1-score   support\n",
      "\n",
      "           0       1.00      0.99      0.99      2045\n",
      "           1       0.99      1.00      0.99      2045\n",
      "\n",
      "    accuracy                           0.99      4090\n",
      "   macro avg       0.99      0.99      0.99      4090\n",
      "weighted avg       0.99      0.99      0.99      4090\n",
      "\n"
     ]
    },
    {
     "data": {
      "image/png": "[encoded data removed]",
      "text/plain": [
       "<Figure size 640x480 with 2 Axes>"
      ]
     },
     "metadata": {},
     "output_type": "display_data"
    }
   ],
   "source": [
    "train_test_model(RandomForestClassifier())"
   ]
  },
  {
   "cell_type": "markdown",
   "id": "0f12bca8",
   "metadata": {
    "papermill": {
     "duration": 0.014888,
     "end_time": "2024-12-22T07:10:59.772574",
     "exception": false,
     "start_time": "2024-12-22T07:10:59.757686",
     "status": "completed"
    },
    "tags": []
   },
   "source": [
    "## Gradient Boosting"
   ]
  },
  {
   "cell_type": "code",
   "execution_count": 36,
   "id": "a4176f5a",
   "metadata": {
    "execution": {
     "iopub.execute_input": "2024-12-22T07:10:59.807353Z",
     "iopub.status.busy": "2024-12-22T07:10:59.807034Z",
     "iopub.status.idle": "2024-12-22T07:11:06.041222Z",
     "shell.execute_reply": "2024-12-22T07:11:06.040133Z"
    },
    "papermill": {
     "duration": 6.254375,
     "end_time": "2024-12-22T07:11:06.043008",
     "exception": false,
     "start_time": "2024-12-22T07:10:59.788633",
     "status": "completed"
    },
    "tags": []
   },
   "outputs": [
    {
     "name": "stdout",
     "output_type": "stream",
     "text": [
      "accuracy score of GradientBoostingClassifier(max_depth=7, n_estimators=150) is :0.9960880195599022\n",
      "              precision    recall  f1-score   support\n",
      "\n",
      "           0       1.00      1.00      1.00      2045\n",
      "           1       1.00      1.00      1.00      2045\n",
      "\n",
      "    accuracy                           1.00      4090\n",
      "   macro avg       1.00      1.00      1.00      4090\n",
      "weighted avg       1.00      1.00      1.00      4090\n",
      "\n"
     ]
    },
    {
     "data": {
      "image/png": "[encoded data removed]",
      "text/plain": [
       "<Figure size 640x480 with 2 Axes>"
      ]
     },
     "metadata": {},
     "output_type": "display_data"
    }
   ],
   "source": [
    "train_test_model(GradientBoostingClassifier(learning_rate= 0.1, max_depth=7, n_estimators= 150))"
   ]
  },
  {
   "cell_type": "markdown",
   "id": "859a5e19",
   "metadata": {
    "papermill": {
     "duration": 0.015976,
     "end_time": "2024-12-22T07:11:06.075837",
     "exception": false,
     "start_time": "2024-12-22T07:11:06.059861",
     "status": "completed"
    },
    "tags": []
   },
   "source": [
    "## XG boost"
   ]
  },
  {
   "cell_type": "code",
   "execution_count": 37,
   "id": "ddabc846",
   "metadata": {
    "execution": {
     "iopub.execute_input": "2024-12-22T07:11:06.110068Z",
     "iopub.status.busy": "2024-12-22T07:11:06.109553Z",
     "iopub.status.idle": "2024-12-22T07:11:06.866564Z",
     "shell.execute_reply": "2024-12-22T07:11:06.865540Z"
    },
    "papermill": {
     "duration": 0.776079,
     "end_time": "2024-12-22T07:11:06.868216",
     "exception": false,
     "start_time": "2024-12-22T07:11:06.092137",
     "status": "completed"
    },
    "tags": []
   },
   "outputs": [
    {
     "name": "stdout",
     "output_type": "stream",
     "text": [
      "accuracy score of XGBClassifier(base_score=None, booster=None, callbacks=None,\n",
      "              colsample_bylevel=None, colsample_bynode=None,\n",
      "              colsample_bytree=None, device=None, early_stopping_rounds=None,\n",
      "              enable_categorical=False, eval_metric=None, feature_types=None,\n",
      "              gamma=None, grow_policy=None, importance_type=None,\n",
      "              interaction_constraints=None, learning_rate=0.2, max_bin=None,\n",
      "              max_cat_threshold=None, max_cat_to_onehot=None,\n",
      "              max_delta_step=None, max_depth=7, max_leaves=None,\n",
      "              min_child_weight=None, missing=nan, monotone_constraints=None,\n",
      "              multi_strategy=None, n_estimators=150, n_jobs=None,\n",
      "              num_parallel_tree=None, random_state=None, ...) is :0.993643031784841\n",
      "              precision    recall  f1-score   support\n",
      "\n",
      "           0       1.00      0.99      0.99      2045\n",
      "           1       0.99      1.00      0.99      2045\n",
      "\n",
      "    accuracy                           0.99      4090\n",
      "   macro avg       0.99      0.99      0.99      4090\n",
      "weighted avg       0.99      0.99      0.99      4090\n",
      "\n"
     ]
    },
    {
     "data": {
      "image/png": "[encoded data removed]",
      "text/plain": [
       "<Figure size 640x480 with 2 Axes>"
      ]
     },
     "metadata": {},
     "output_type": "display_data"
    }
   ],
   "source": [
    "train_test_model(xg.XGBClassifier(learning_rate= 0.2, max_depth=7, n_estimators= 150))"
   ]
  },
  {
   "cell_type": "markdown",
   "id": "5daa733c",
   "metadata": {
    "papermill": {
     "duration": 0.017091,
     "end_time": "2024-12-22T07:11:06.903005",
     "exception": false,
     "start_time": "2024-12-22T07:11:06.885914",
     "status": "completed"
    },
    "tags": []
   },
   "source": [
    "## Support Vector Machine"
   ]
  },
  {
   "cell_type": "code",
   "execution_count": 38,
   "id": "37a6ed93",
   "metadata": {
    "execution": {
     "iopub.execute_input": "2024-12-22T07:11:06.938863Z",
     "iopub.status.busy": "2024-12-22T07:11:06.938487Z",
     "iopub.status.idle": "2024-12-22T07:11:13.305245Z",
     "shell.execute_reply": "2024-12-22T07:11:13.304076Z"
    },
    "papermill": {
     "duration": 6.386431,
     "end_time": "2024-12-22T07:11:13.306732",
     "exception": false,
     "start_time": "2024-12-22T07:11:06.920301",
     "status": "completed"
    },
    "tags": []
   },
   "outputs": [
    {
     "name": "stdout",
     "output_type": "stream",
     "text": [
      "accuracy score of SVC() is :0.8119804400977995\n",
      "              precision    recall  f1-score   support\n",
      "\n",
      "           0       0.94      0.67      0.78      2045\n",
      "           1       0.74      0.96      0.84      2045\n",
      "\n",
      "    accuracy                           0.81      4090\n",
      "   macro avg       0.84      0.81      0.81      4090\n",
      "weighted avg       0.84      0.81      0.81      4090\n",
      "\n"
     ]
    },
    {
     "data": {
      "image/png": "[encoded data removed]",
      "text/plain": [
       "<Figure size 640x480 with 2 Axes>"
      ]
     },
     "metadata": {},
     "output_type": "display_data"
    }
   ],
   "source": [
    "train_test_model(SVC())"
   ]
  },
  {
   "cell_type": "markdown",
   "id": "66edcdfe",
   "metadata": {
    "papermill": {
     "duration": 0.017048,
     "end_time": "2024-12-22T07:11:13.341365",
     "exception": false,
     "start_time": "2024-12-22T07:11:13.324317",
     "status": "completed"
    },
    "tags": []
   },
   "source": [
    "## KNeighborsClassifier"
   ]
  },
  {
   "cell_type": "code",
   "execution_count": 39,
   "id": "0f5b4813",
   "metadata": {
    "execution": {
     "iopub.execute_input": "2024-12-22T07:11:13.377953Z",
     "iopub.status.busy": "2024-12-22T07:11:13.377558Z",
     "iopub.status.idle": "2024-12-22T07:11:13.991057Z",
     "shell.execute_reply": "2024-12-22T07:11:13.990059Z"
    },
    "papermill": {
     "duration": 0.633621,
     "end_time": "2024-12-22T07:11:13.992678",
     "exception": false,
     "start_time": "2024-12-22T07:11:13.359057",
     "status": "completed"
    },
    "tags": []
   },
   "outputs": [
    {
     "name": "stdout",
     "output_type": "stream",
     "text": [
      "accuracy score of KNeighborsClassifier() is :0.9537897310513448\n",
      "              precision    recall  f1-score   support\n",
      "\n",
      "           0       0.96      0.94      0.95      2045\n",
      "           1       0.94      0.96      0.95      2045\n",
      "\n",
      "    accuracy                           0.95      4090\n",
      "   macro avg       0.95      0.95      0.95      4090\n",
      "weighted avg       0.95      0.95      0.95      4090\n",
      "\n"
     ]
    },
    {
     "data": {
      "image/png": "[encoded data removed]",
      "text/plain": [
       "<Figure size 640x480 with 2 Axes>"
      ]
     },
     "metadata": {},
     "output_type": "display_data"
    }
   ],
   "source": [
    "train_test_model(KNeighborsClassifier())"
   ]
  },
  {
   "cell_type": "markdown",
   "id": "83a652df",
   "metadata": {
    "papermill": {
     "duration": 0.018361,
     "end_time": "2024-12-22T07:11:14.029899",
     "exception": false,
     "start_time": "2024-12-22T07:11:14.011538",
     "status": "completed"
    },
    "tags": []
   },
   "source": [
    "## Naive's Bayes"
   ]
  },
  {
   "cell_type": "code",
   "execution_count": 40,
   "id": "80434602",
   "metadata": {
    "execution": {
     "iopub.execute_input": "2024-12-22T07:11:14.067472Z",
     "iopub.status.busy": "2024-12-22T07:11:14.067152Z",
     "iopub.status.idle": "2024-12-22T07:11:14.287167Z",
     "shell.execute_reply": "2024-12-22T07:11:14.286135Z"
    },
    "papermill": {
     "duration": 0.240714,
     "end_time": "2024-12-22T07:11:14.288723",
     "exception": false,
     "start_time": "2024-12-22T07:11:14.048009",
     "status": "completed"
    },
    "tags": []
   },
   "outputs": [
    {
     "name": "stdout",
     "output_type": "stream",
     "text": [
      "accuracy score of GaussianNB() is :0.7889975550122249\n",
      "              precision    recall  f1-score   support\n",
      "\n",
      "           0       1.00      0.58      0.73      2045\n",
      "           1       0.70      1.00      0.83      2045\n",
      "\n",
      "    accuracy                           0.79      4090\n",
      "   macro avg       0.85      0.79      0.78      4090\n",
      "weighted avg       0.85      0.79      0.78      4090\n",
      "\n"
     ]
    },
    {
     "data": {
      "image/png": "[encoded data removed]",
      "text/plain": [
       "<Figure size 640x480 with 2 Axes>"
      ]
     },
     "metadata": {},
     "output_type": "display_data"
    }
   ],
   "source": [
    "train_test_model(GaussianNB())"
   ]
  },
  {
   "cell_type": "markdown",
   "id": "bb43dada",
   "metadata": {
    "papermill": {
     "duration": 0.018614,
     "end_time": "2024-12-22T07:11:14.326003",
     "exception": false,
     "start_time": "2024-12-22T07:11:14.307389",
     "status": "completed"
    },
    "tags": []
   },
   "source": [
    "# Result and Inference"
   ]
  },
  {
   "cell_type": "markdown",
   "id": "0abd46e8",
   "metadata": {
    "papermill": {
     "duration": 0.018487,
     "end_time": "2024-12-22T07:11:14.362505",
     "exception": false,
     "start_time": "2024-12-22T07:11:14.344018",
     "status": "completed"
    },
    "tags": []
   },
   "source": [
    "## One major takeaway was that the data was quite imbalanced where number of fraud was quite less compared to no fraud. So I used undersample "
   ]
  },
  {
   "cell_type": "code",
   "execution_count": 41,
   "id": "16ac539c",
   "metadata": {
    "execution": {
     "iopub.execute_input": "2024-12-22T07:11:14.401338Z",
     "iopub.status.busy": "2024-12-22T07:11:14.400931Z",
     "iopub.status.idle": "2024-12-22T07:11:14.456216Z",
     "shell.execute_reply": "2024-12-22T07:11:14.455181Z"
    },
    "papermill": {
     "duration": 0.076493,
     "end_time": "2024-12-22T07:11:14.457828",
     "exception": false,
     "start_time": "2024-12-22T07:11:14.381335",
     "status": "completed"
    },
    "tags": []
   },
   "outputs": [
    {
     "data": {
      "text/plain": [
       "isFraud\n",
       "0    0.998709\n",
       "1    0.001291\n",
       "Name: count, dtype: float64"
      ]
     },
     "execution_count": 41,
     "metadata": {},
     "output_type": "execute_result"
    }
   ],
   "source": [
    "df['isFraud'].value_counts()/(df['isFraud'].count())"
   ]
  },
  {
   "cell_type": "markdown",
   "id": "cc1f07d6",
   "metadata": {
    "papermill": {
     "duration": 0.018557,
     "end_time": "2024-12-22T07:11:14.495042",
     "exception": false,
     "start_time": "2024-12-22T07:11:14.476485",
     "status": "completed"
    },
    "tags": []
   },
   "source": [
    "## Best Model for the undersample\n",
    "---\n",
    "Model **Gradient boosting** has produced the best result with accuracy score of `0.996`"
   ]
  },
  {
   "cell_type": "markdown",
   "id": "e3d02257",
   "metadata": {
    "papermill": {
     "duration": 0.018537,
     "end_time": "2024-12-22T07:11:14.534573",
     "exception": false,
     "start_time": "2024-12-22T07:11:14.516036",
     "status": "completed"
    },
    "tags": []
   },
   "source": [
    "* Improvements can be done with different sampling techniques or more advanced models.\n",
    "* **Don't forget to Upvote**"
   ]
  }
 ],
 "metadata": {
  "kaggle": {
   "accelerator": "none",
   "dataSources": [
    {
     "datasetId": 2093649,
     "sourceId": 3478314,
     "sourceType": "datasetVersion"
    }
   ],
   "dockerImageVersionId": 30822,
   "isGpuEnabled": false,
   "isInternetEnabled": true,
   "language": "python",
   "sourceType": "notebook"
  },
  "kernelspec": {
   "display_name": "Python 3",
   "language": "python",
   "name": "python3"
  },
  "language_info": {
   "codemirror_mode": {
    "name": "ipython",
    "version": 3
   },
   "file_extension": ".py",
   "mimetype": "text/x-python",
   "name": "python",
   "nbconvert_exporter": "python",
   "pygments_lexer": "ipython3",
   "version": "3.10.12"
  },
  "papermill": {
   "default_parameters": {},
   "duration": 71.746922,
   "end_time": "2024-12-22T07:11:15.574878",
   "environment_variables": {},
   "exception": null,
   "input_path": "__notebook__.ipynb",
   "output_path": "__notebook__.ipynb",
   "parameters": {},
   "start_time": "2024-12-22T07:10:03.827956",
   "version": "2.6.0"
  }
 },
 "nbformat": 4,
 "nbformat_minor": 5
}
